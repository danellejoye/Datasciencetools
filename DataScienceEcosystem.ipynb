{
 "cells": [
  {
   "cell_type": "markdown",
   "id": "e01b7a89-bd8c-4b8f-8bcc-6e275ba999e4",
   "metadata": {
    "tags": []
   },
   "source": [
    "# Data Science Tools and Ecosystem"
   ]
  },
  {
   "cell_type": "markdown",
   "id": "5d97624e-87b3-48e0-b5c6-e384cf0e52c5",
   "metadata": {},
   "source": [
    "# **Objective:**\n",
    "-What the popular libarys are for Data Science\n",
    "-Data Science Tools\n",
    "-How to Muliply using python\n",
    "-How to Convert using python"
   ]
  },
  {
   "cell_type": "markdown",
   "id": "c06ecfea-38e8-4b2d-8949-07dc02696142",
   "metadata": {},
   "source": [
    "Some of the popular languages that Data Scientists use are:\n",
    "    1. Java\n",
    "    2. Julia\n",
    "    3. Swift"
   ]
  },
  {
   "cell_type": "markdown",
   "id": "53a90ed8-cc93-4ff3-9532-f3cb2b80f81c",
   "metadata": {
    "tags": []
   },
   "source": [
    "Some of the popular libarys that Data Scientists use are:\n",
    "    1.Pandas\n",
    "    2.NumPy\n",
    "    3.Keras"
   ]
  },
  {
   "cell_type": "markdown",
   "id": "dcf188e5-d492-4d0f-b8dd-4ea9805dae34",
   "metadata": {},
   "source": [
    "| Data Science Tools |\n",
    "|--------------------|\n",
    "|Hadroop|\n",
    "|Spark|\n",
    "|Python|\n"
   ]
  },
  {
   "cell_type": "markdown",
   "id": "972dce00-da6c-42e7-abbd-6c9204005a41",
   "metadata": {
    "tags": []
   },
   "source": [
    "### Below are a few examples of evaluating arithmetic expressions in Python"
   ]
  },
  {
   "cell_type": "markdown",
   "id": "81c6dde0-fafe-45fc-9a83-c4a71c3e791f",
   "metadata": {},
   "source": [
    "# This is a simple arithmetic expression to mutiply then add integenn"
   ]
  },
  {
   "cell_type": "code",
   "execution_count": 7,
   "id": "06db328b-ea2a-417c-9956-6a6a499add56",
   "metadata": {
    "tags": []
   },
   "outputs": [
    {
     "data": {
      "text/plain": [
       "17"
      ]
     },
     "execution_count": 7,
     "metadata": {},
     "output_type": "execute_result"
    }
   ],
   "source": [
    "(3*4)+5"
   ]
  },
  {
   "cell_type": "markdown",
   "id": "8c7f115e-9feb-4b32-9bad-058bac00dae5",
   "metadata": {},
   "source": [
    "# This will convert 200 minutes to hours by diving by 60"
   ]
  },
  {
   "cell_type": "code",
   "execution_count": 8,
   "id": "97d62888-68bf-4e58-8fae-5855d7fb98f4",
   "metadata": {
    "tags": []
   },
   "outputs": [
    {
     "data": {
      "text/plain": [
       "20"
      ]
     },
     "execution_count": 8,
     "metadata": {},
     "output_type": "execute_result"
    }
   ],
   "source": [
    "200 % 60"
   ]
  },
  {
   "cell_type": "markdown",
   "id": "02bcb6ea-5588-40a2-bff5-4759fb469f22",
   "metadata": {},
   "source": [
    "## Author\n",
    "Danelle"
   ]
  }
 ],
 "metadata": {
  "kernelspec": {
   "display_name": "Python",
   "language": "python",
   "name": "conda-env-python-py"
  },
  "language_info": {
   "codemirror_mode": {
    "name": "ipython",
    "version": 3
   },
   "file_extension": ".py",
   "mimetype": "text/x-python",
   "name": "python",
   "nbconvert_exporter": "python",
   "pygments_lexer": "ipython3",
   "version": "3.7.12"
  }
 },
 "nbformat": 4,
 "nbformat_minor": 5
}
